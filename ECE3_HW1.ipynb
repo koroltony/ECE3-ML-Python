{
  "nbformat": 4,
  "nbformat_minor": 5,
  "metadata": {
    "colab": {
      "name": "ECE3_HW1.ipynb",
      "provenance": [],
      "collapsed_sections": []
    },
    "kernelspec": {
      "display_name": "Python 3",
      "language": "python",
      "name": "python3"
    },
    "language_info": {
      "codemirror_mode": {
        "name": "ipython",
        "version": 3
      },
      "file_extension": ".py",
      "mimetype": "text/x-python",
      "name": "python",
      "nbconvert_exporter": "python",
      "pygments_lexer": "ipython3",
      "version": "3.8.8"
    }
  },
  "cells": [
    {
      "cell_type": "markdown",
      "metadata": {
        "id": "ac6c8d91"
      },
      "source": [
        "# ECE 3 : Homework 1"
      ],
      "id": "ac6c8d91"
    },
    {
      "cell_type": "markdown",
      "metadata": {
        "id": "2095df15"
      },
      "source": [
        "# Instructions\n",
        "\n",
        "To get started, you should go through the following steps.\n",
        "- Rename this jupyter notebook by adding your name: e.g. `ECE3_HW-1_<your-name>.ipynb`.\n",
        "- Complete all the exercises by directly editing your notebook.\n",
        "- Make sure that the coding portions run without errors."
      ],
      "id": "2095df15"
    },
    {
      "cell_type": "markdown",
      "metadata": {
        "id": "e5a8e0de"
      },
      "source": [
        "Run the following line of code to install the package `geomstats` that you will need to get the datasets."
      ],
      "id": "e5a8e0de"
    },
    {
      "cell_type": "code",
      "metadata": {
        "id": "9f45ebbe"
      },
      "source": [
        "!pip3 install git+https://github.com/geomstats/geomstats.git"
      ],
      "id": "9f45ebbe",
      "execution_count": null,
      "outputs": []
    },
    {
      "cell_type": "markdown",
      "metadata": {
        "id": "854de2d5"
      },
      "source": [
        "# Problem 1 - How do cancer drugs impact our cells?\n",
        "\n",
        "In this problem, we study osteosarcoma (bone cancer) cells and the impact of drug treatment on their morphological shapes, by analyzing cell shapes from cell images obtained from fluorescence microscopy.\n",
        "\n",
        "![Plot](https://github.com/geomstats/challenge-iclr-2021/blob/main/Florent-Michel__Shape-Analysis-of-Cancer-Cells/cells_image.png?raw=true)\n",
        "\n",
        "<center>Representative images of the cells using fluorescence microscopy (Image credit : Ashok Prasad). The cells nuclei (blue), the actin cytoskeleton (green) and the lipid membrane (red) of each cell are stained and colored.</center>\n",
        "\n",
        "In this problem, we only focus on the boundaries of the cells."
      ],
      "id": "854de2d5"
    },
    {
      "cell_type": "markdown",
      "metadata": {
        "id": "07ab7503"
      },
      "source": [
        "### Part (a) - Path Length\n",
        "\n",
        "A \"path\" in 2D space can be defined as a `list` of 2D points, where each 2D point is expressed with its x-y coordinates as a `tuple`. An example of path is given below."
      ],
      "id": "07ab7503"
    },
    {
      "cell_type": "code",
      "metadata": {
        "id": "986fe264"
      },
      "source": [
        "path_example = [(1, 1), (2, 3), (3, 8)]\n",
        "path_example"
      ],
      "id": "986fe264",
      "execution_count": null,
      "outputs": []
    },
    {
      "cell_type": "markdown",
      "metadata": {
        "id": "59390b6e"
      },
      "source": [
        "Write a function, `path_length()`, which takes a \"path\" as input and calculates the total distance of the path the points map out, starting from the first point in the list to the second, the second to the third, and so on. The total distance is the sum of all of the distances of segments forming the path. The function `path_length()` should return this total distance.\n",
        "\n",
        "It is assumed that the list of points is already in the correct order. An image example of the path length approximation is shown below. The segments shown in **red** are the lengths you must compute correctly and sum to find the path length.\n",
        "\n",
        "\n",
        "![Plot](https://raw.githubusercontent.com/monsij/ToDo_App/c692f1d894a1073f439945aa2a412ec34030e45e/pythonProbPlot.png)\n",
        "\n",
        "The function definition has been started for you below. \n",
        "- Complete it with your answer. **(10 points)**\n",
        "- Test it on the `path_example` above. **(5 points)**"
      ],
      "id": "59390b6e"
    },
    {
      "cell_type": "code",
      "metadata": {
        "id": "55f8f5c3"
      },
      "source": [
        "def path_length(path):\n",
        "    '''\n",
        "    Enter your solution here.\n",
        "    '''"
      ],
      "id": "55f8f5c3",
      "execution_count": null,
      "outputs": []
    },
    {
      "cell_type": "markdown",
      "metadata": {
        "id": "b729be24"
      },
      "source": [
        "### Part (b) - Computing the length of cancer cells\n",
        "\n",
        "We load a dataset of bone cancer cells using the package `geomstats` and extract the first cell, called `cell0`."
      ],
      "id": "b729be24"
    },
    {
      "cell_type": "code",
      "metadata": {
        "id": "a1fb0ffe"
      },
      "source": [
        "import geomstats.datasets.utils as data_utils\n",
        "import matplotlib.pyplot as plt\n",
        "\n",
        "cells, _, treatments = data_utils.load_cells()\n",
        "cell0 = cells[0]\n",
        "#plt.plot(cell0[:, 0], cell0[:, 1])\n",
        "#plt.title(\"Cell 0\")\n",
        "cell0 = list(tuple(point) for point in cell0)"
      ],
      "id": "a1fb0ffe",
      "execution_count": null,
      "outputs": []
    },
    {
      "cell_type": "markdown",
      "metadata": {
        "id": "42691829"
      },
      "source": [
        "- Compute the length of the first cell of this dataset. **(5 points)**"
      ],
      "id": "42691829"
    },
    {
      "cell_type": "code",
      "metadata": {
        "id": "dbb722de"
      },
      "source": [
        "'''\n",
        "Enter your solution here.\n",
        "'''"
      ],
      "id": "dbb722de",
      "execution_count": null,
      "outputs": []
    },
    {
      "cell_type": "markdown",
      "metadata": {
        "id": "fec204e7"
      },
      "source": [
        "### Part (c) - Does the cancer treatment affect the biophysics of the cell?\n",
        "\n",
        "In this dataset of bone cancer cells, some have been treated with different drugs - Jasp (jasplakinolide) and Cytd (cytochalasin D) - and some (called control cells) have not been treated.\n",
        "\n",
        "- The cell0 is a control cell.\n",
        "- The cell500 is a cell treated with the drug \"japs\"."
      ],
      "id": "fec204e7"
    },
    {
      "cell_type": "code",
      "metadata": {
        "id": "441f691d"
      },
      "source": [
        "drug0 = treatments[0]\n",
        "print(drug0)\n",
        "\n",
        "cell500 = list(tuple(point) for point in cells[500])\n",
        "drug500 = treatments[500]\n",
        "print(drug500)"
      ],
      "id": "441f691d",
      "execution_count": null,
      "outputs": []
    },
    {
      "cell_type": "markdown",
      "metadata": {
        "id": "0ed1839d"
      },
      "source": [
        "We want to know if the drug affects the biophysics of the cell. An indication that the drug affects the biophysics of the cell would be that it modifies the cytoskeleton, and therefore the perimeter of the cell.\n",
        "\n",
        "- Compute the length of cell500. **(5 points)**"
      ],
      "id": "0ed1839d"
    },
    {
      "cell_type": "code",
      "metadata": {
        "id": "b4b77528"
      },
      "source": [
        "'''\n",
        "Enter your solution here.\n",
        "'''"
      ],
      "id": "b4b77528",
      "execution_count": null,
      "outputs": []
    },
    {
      "cell_type": "markdown",
      "metadata": {
        "id": "4ae6d3bb"
      },
      "source": [
        "- Explain, in your own words, how you would design a simple code that tests if a given treatment affects the biophysics of the cell. (Coding is not required). **(10 points)**"
      ],
      "id": "4ae6d3bb"
    },
    {
      "cell_type": "markdown",
      "metadata": {
        "id": "43fe959d"
      },
      "source": [
        "# Problem 2 - Analyzing signals"
      ],
      "id": "43fe959d"
    },
    {
      "cell_type": "markdown",
      "metadata": {
        "id": "683ca571"
      },
      "source": [
        "### Part (a) - Average and RMS\n",
        "\n",
        "We analyze an alternating signal - you may interpret it as a voltage signal (used to transmit bits in computing), or an optical signal (to transmit data across long distances in an optical fiber). A signal is represented as a `list` of numbers, where each number represents the amplitude of the signal. An example of alternating signal is shown below. The packages `numpy` and `matplotlib` have been imported for your convenience. "
      ],
      "id": "683ca571"
    },
    {
      "cell_type": "code",
      "metadata": {
        "id": "27501c11"
      },
      "source": [
        "import matplotlib.pyplot as plt\n",
        "import numpy as np\n",
        "\n",
        "time = np.linspace(0, 1, 1001) # time-values of the signal\n",
        "signal_example = np.cos(200 * time) / (5 * time + 1) * np.sin(10 * time) # corresponding amplitude values of the signal"
      ],
      "id": "27501c11",
      "execution_count": null,
      "outputs": []
    },
    {
      "cell_type": "markdown",
      "metadata": {
        "id": "2d7ae38a"
      },
      "source": [
        "- Write a function, `avg_rms()`, which takes a signal as input and calculates the average signal value and the RMS value. The function `avg_rms()` should `return` these values as a tuple, with the average first and the RMS second, as in the code below. You **cannot** use `np.average` nor `np.mean` for this exercise, but you should use them to check your result. **(10 points)**"
      ],
      "id": "2d7ae38a"
    },
    {
      "cell_type": "code",
      "metadata": {
        "id": "d62cbd51"
      },
      "source": [
        "def avg_rms(signal):\n",
        "    '''\n",
        "    Enter your solution here.\n",
        "    '''\n",
        "    avg = 0.  # replace this value with your code\n",
        "    rms = 0.  # replace this value with your code\n",
        "    return avg, rms"
      ],
      "id": "d62cbd51",
      "execution_count": null,
      "outputs": []
    },
    {
      "cell_type": "markdown",
      "metadata": {
        "id": "939b2e4c"
      },
      "source": [
        "### Part (b) - Plotting\n",
        "\n",
        "Now we will practice plotting data with useful information. \n",
        "- Write a script that uses your previous `avg_rms()` function to find the RMS and average of the given signal (contained in the `time` and `signal_example` arrays above). Plot the given signal, the average value, and the average $+/-$ the RMS value. **(10 points)**\n",
        "\n",
        "You must reference the function from Part **(a)** - do not recalculate the RMS and average in your script without the function.\n",
        "\n",
        "Do not forget to provide explanatory labels to the axes of your plot."
      ],
      "id": "939b2e4c"
    },
    {
      "cell_type": "code",
      "metadata": {
        "id": "81a77e99"
      },
      "source": [
        "'''\n",
        "Enter your solution here.\n",
        "'''"
      ],
      "id": "81a77e99",
      "execution_count": null,
      "outputs": []
    },
    {
      "cell_type": "markdown",
      "metadata": {
        "id": "8f53a7ad"
      },
      "source": [
        "### Part (c) - Standard Deviation"
      ],
      "id": "8f53a7ad"
    },
    {
      "cell_type": "markdown",
      "metadata": {
        "id": "8ee23970"
      },
      "source": [
        "Now we will find the standard deviation of the above signal (using the values contained in `signal`). The formula for the standard deviation of an $n$-vector $x = [x_1, x_2, ..., x_{n-1}, x_n]$ is given below:\n",
        "$$\n",
        "std(x) = \\sqrt{\\frac{\\sum_{i=1}^{n}(x_i - avg(x))^2}{n}}\n",
        "$$\n",
        "with $avg(x)$ the mean value contained in the vector $x$ and $\\Sigma$ means \"sum\".\n",
        "\n",
        "- Write a function `std_dev` that computes the standard deviation of a signal.  You **cannot** use `np.std` for this exercise but you should use it to check your result in the next question. **(10 points)**\n",
        "- Make a function call (below your function definition) that uses `std_dev()` to calculate and print the standard deviation of the signal amplitude array `signal_example` given above. **(5 points)**"
      ],
      "id": "8ee23970"
    },
    {
      "cell_type": "code",
      "metadata": {
        "id": "17d99ccb"
      },
      "source": [
        "def std_dev(signal):\n",
        "    '''\n",
        "    Enter your solution for the function here.\n",
        "    '''\n",
        "    \n",
        "# Make the function call to std_dev() with the `signal_example` array. Print the result."
      ],
      "id": "17d99ccb",
      "execution_count": null,
      "outputs": []
    },
    {
      "cell_type": "markdown",
      "metadata": {
        "id": "8b1609cc"
      },
      "source": [
        "- Code another example of signal.\n",
        "- Verify the formula $rms(x)^2 = avg(x)^2 + std(x)^2$ on your signal."
      ],
      "id": "8b1609cc"
    },
    {
      "cell_type": "code",
      "metadata": {
        "id": "60a02d97"
      },
      "source": [
        "'''\n",
        "Enter your solution here.\n",
        "'''"
      ],
      "id": "60a02d97",
      "execution_count": null,
      "outputs": []
    },
    {
      "cell_type": "markdown",
      "metadata": {
        "id": "PXvHMfcZFW22"
      },
      "source": [
        "# Problem 3 - Computing with vectors \n",
        "### Given vector $\\textbf{a} = (𝑎_1,...,𝑎_𝑛)$, vector $\\textbf{b} = (b_1, ..., b_n)$ and scalar $k$.  \n",
        "\n",
        "- Write $\\textbf{a}$ as a linear combination of the one-hot n-vectors $e_1, ... e_n$.  (2 points)\n",
        "- Compute $(\\textbf{a}^T\\textbf{a)b}$ using entries of $\\textbf{a}$ and $\\textbf{b}$.  (5 points)\n",
        "- Show the inner product property $(k\\textbf{a})^T\\textbf{b} = k(\\textbf{a}^T\\textbf{b})$ using entries of $\\textbf{a}$ and $\\textbf{b}$. (4 points)"
      ],
      "id": "PXvHMfcZFW22"
    },
    {
      "cell_type": "markdown",
      "metadata": {
        "id": "QwW35wEGGFyT"
      },
      "source": [
        "# Problem 4 - Computing with functions\n",
        "\n",
        "Let $f:\\mathbb{R}^2 \\rightarrow \\mathbb{R}$ be a function defined by $f(x) = -x_2^3 + \\frac{1}{2}x_1^2 + 2x_2^2 + x_1x_2  -4x_1 - 4x_2 $ for any $2$-vector $x = (x_1, x_2)$.\n",
        "\n",
        "### Part (a) - Linear functions\n",
        "\n",
        "- Is $f$ a linear function? (5 points)\n",
        "    - If yes, show that it satisfies the superposition principle. \n",
        "    - If no, gives an example of $\\alpha, \\beta, x, y$ such that it violates the superposition principle."
      ],
      "id": "QwW35wEGGFyT"
    },
    {
      "cell_type": "markdown",
      "metadata": {
        "id": "6506f595"
      },
      "source": [
        "### Part (b) - Gradients\n",
        "\n",
        "- Compute the gradient of $f$. Give its value at the $2$-vector $x = (1, 2)$. (3 points)\n",
        "\n",
        "- Verify the value of your gradient at the $2$-vector $x = (1, 2)$ by using Python and the package `jax`. (3 points)"
      ],
      "id": "6506f595"
    },
    {
      "cell_type": "code",
      "metadata": {
        "id": "d49fd9b3"
      },
      "source": [
        "import jax\n",
        "\n",
        "'''\n",
        "Enter your solution here.\n",
        "'''"
      ],
      "id": "d49fd9b3",
      "execution_count": null,
      "outputs": []
    },
    {
      "cell_type": "markdown",
      "metadata": {
        "id": "3a40e5b6"
      },
      "source": [
        "### Part (c) - Taylor expansions\n",
        "\n",
        "- Compute the first order Taylor approximation $\\hat{f}$ of $f$ at $\\textbf{z} = \\begin{bmatrix} 1\\\\2\\end{bmatrix}$. (2 points)\n",
        "\n",
        "- Compute the value of the first order Taylor approximation of $f$ at $\\textbf{x} = \\begin{bmatrix} 1.01\\\\2.02\\end{bmatrix}$, i.e. compute $\\hat{f}(x)$. (4 points)\n",
        "\n",
        "- Check your result by using Python. (2 points)"
      ],
      "id": "3a40e5b6"
    },
    {
      "cell_type": "code",
      "metadata": {
        "id": "0b179a5e"
      },
      "source": [
        "'''\n",
        "Enter your solution here.\n",
        "'''"
      ],
      "id": "0b179a5e",
      "execution_count": null,
      "outputs": []
    }
  ]
}
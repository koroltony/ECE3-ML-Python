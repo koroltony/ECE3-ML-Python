{
  "nbformat": 4,
  "nbformat_minor": 0,
  "metadata": {
    "colab": {
      "name": "ECE_HW5_TonyKorol.ipynb",
      "provenance": [],
      "collapsed_sections": [
        "TUU2mXLwYe29"
      ]
    },
    "kernelspec": {
      "display_name": "Python 3",
      "language": "python",
      "name": "python3"
    },
    "language_info": {
      "codemirror_mode": {
        "name": "ipython",
        "version": 3
      },
      "file_extension": ".py",
      "mimetype": "text/x-python",
      "name": "python",
      "nbconvert_exporter": "python",
      "pygments_lexer": "ipython3",
      "version": "3.8.8"
    }
  },
  "cells": [
    {
      "cell_type": "markdown",
      "metadata": {
        "id": "XJcXzC1IYiDX"
      },
      "source": [
        "# ECE 3 : Homework 5"
      ]
    },
    {
      "cell_type": "markdown",
      "metadata": {
        "id": "TUU2mXLwYe29"
      },
      "source": [
        "## Instructions\n",
        "\n",
        "To get started, you should go through the following steps.\n",
        "- Rename this jupyter notebook by adding your name: e.g. `ECE3_HW5_<LastName-FirstName>.ipynb`.\n",
        "- Complete all the exercises by directly editing your notebook.\n",
        "- Make sure that the coding portions run without errors."
      ]
    },
    {
      "cell_type": "markdown",
      "metadata": {
        "id": "LEzl8zxLlDmo"
      },
      "source": [
        "## Problem 1 - Linear Equations (Total Points 20 = 4 + 8 + 8)"
      ]
    },
    {
      "cell_type": "markdown",
      "metadata": {
        "id": "Njx0q7mv6iy0"
      },
      "source": [
        "\n",
        "You and your friend are shopping at the farmer's market. You spent $19$ dollars on $2$ pounds of plums and $3$ pounds of peaches. Your friend spent $23$ dollars on $4$ pounds of plums and $1$ pound of peaches. How much does plums and peaches cost per pound?\n"
      ]
    },
    {
      "cell_type": "markdown",
      "metadata": {
        "id": "f1z01i1un9Cm"
      },
      "source": [
        "\n",
        "(a) Let $x_1$ represents price of plums per pound and $x_2$ represent price of peaches per pound. Set up the equation for this problem as Ax = b, where $x = \\begin{bmatrix}\n",
        "x_1 \\\\\n",
        "x_2\\end{bmatrix}$.\n",
        "\n",
        "(b) Solve manually (Please show your steps).\n",
        "\n",
        "(c) Use python verify result by using numpy.linalg.solve, fill blanks in code.\n",
        "\n"
      ]
    },
    {
      "cell_type": "markdown",
      "metadata": {
        "id": "l0wEuwqLMaTR"
      },
      "source": [
        "**Write your answers for part a and b here**\n",
        "\n",
        "a) let plums = $x_1$\n",
        "\n",
        "let peaches = $x_2$\n",
        "\n",
        "System of equations for this scenario:\n",
        "\n",
        "$2x_1+3x_2=19$\n",
        "\n",
        "$4x_1+1x_2=23$\n",
        "\n",
        "$Ax=b$ is $\\begin{bmatrix}\n",
        "a_1 & a_2\\\\\n",
        "a_3 & a_4\\end{bmatrix}\\begin{bmatrix}\n",
        "x_1 \\\\\n",
        "x_2\\end{bmatrix}=\\begin{bmatrix}\n",
        "19 \\\\\n",
        "23\\end{bmatrix}$ which is: $\\begin{bmatrix}\n",
        "2 & 3\\\\\n",
        "4 & 1\\end{bmatrix}\\begin{bmatrix}\n",
        "x_1 \\\\\n",
        "x_2\\end{bmatrix}=\\begin{bmatrix}\n",
        "19 \\\\\n",
        "23\\end{bmatrix}$ \n",
        "\n",
        "b) this is solved by: $\\begin{bmatrix}\n",
        "2 & 3 & 19\\\\\n",
        "4 & 1 & 23\\end{bmatrix}$ which is: $\\begin{bmatrix}\n",
        "1 & 0 & 5\\\\\n",
        "0 & 1 & 3\\end{bmatrix}$ by row reduction, so the plums cost 5 and peaches cost 3"
      ]
    },
    {
      "cell_type": "markdown",
      "metadata": {
        "id": "_f5NcWy-PL-z"
      },
      "source": [
        "**Fill in the blank in the code cell below for part c**"
      ]
    },
    {
      "cell_type": "code",
      "metadata": {
        "id": "ol6mSvTNOgx8",
        "colab": {
          "base_uri": "https://localhost:8080/"
        },
        "outputId": "2635e015-7bc2-40e7-8b85-9fad2ef4c7d5"
      },
      "source": [
        "import numpy as np\n",
        "A = np.array([[2,3],[4,1]])\n",
        "b = np.array([19,23])\n",
        "x = np.linalg.solve(A, b)\n",
        "print(\"x1 is\", x[0], \"and x2 is\", x[1])"
      ],
      "execution_count": 1,
      "outputs": [
        {
          "output_type": "stream",
          "name": "stdout",
          "text": [
            "x1 is 5.0 and x2 is 3.0\n"
          ]
        }
      ]
    },
    {
      "cell_type": "markdown",
      "metadata": {
        "id": "w3QXq3yS9MWh"
      },
      "source": [
        "## Problem 3 - Linear Dynamical System (Total Points 40 = 10 + 30)"
      ]
    },
    {
      "cell_type": "markdown",
      "metadata": {
        "id": "_vnIsftE9S4i"
      },
      "source": [
        "A plane is heading to LAX with constant acceleration of $30$ $km/h^2$. At time $t=0$, the plane stays still at position $0$ $km$. The state of the plane is measured every hour. (In other words, there is an hour between $t$ and $t+1$). The state vector $x$ has $3$ states. $x = \\begin{bmatrix}\n",
        "x_1 \\\\\n",
        "x_2 \\\\\n",
        "x_3\\end{bmatrix} = \\begin{bmatrix}\n",
        "position \\\\\n",
        "velocity \\\\\n",
        "acceleration\\end{bmatrix}$.\n",
        "\n",
        "For motion with constant acceleration, the velocity $v$ of the object at time $t_2$ is calculated using equation $v_{t_2} = v_{t_1} + a(t_2 - t_1)$. The position $x$ of the object at time $t_2$ is calculated using equation $x_{t_2} = x_{t_1} + v_{t_1}(t_2 - t_1) + \\frac{1}{2}a(t_2 - t_1)^2$.\n",
        "\n",
        "a) Model the problem as a linear dynamical system.\n",
        "\n",
        "b) Use python to simulate the state vector for $10$ hours."
      ]
    },
    {
      "cell_type": "markdown",
      "metadata": {
        "id": "gOxvYYDhDQi0"
      },
      "source": [
        "**Write your answers for part a here (This is a word question)**\n",
        "\n",
        "a) We are given in the problem that the vector $x_0$ is $\\begin{bmatrix}\n",
        "0 \\\\\n",
        "0 \\\\\n",
        "30\\end{bmatrix}$ We are also given two equations to calculate the next state for position and velocity (acceleration is constant). These equations, when simplified, turn out to be: $v_{t2}=v_{t1}+a$ and $p_{t2}=p_{t1}+v_{t1}+\\frac{1}{2}a$ and $a_{t2}=a_{t1}$ this means that the matrix equation should look like: $A\\begin{bmatrix}\n",
        "p_{t1} \\\\\n",
        "v_{t1} \\\\\n",
        "a_{t1}\\end{bmatrix}=\\begin{bmatrix}\n",
        "p_{t1}+v_{t1}+\\frac{1}{2}a_{t1} \\\\\n",
        "v_{t1}+a_{t1} \\\\\n",
        "a_{t1}\\end{bmatrix}$, so the matrix A consists of the coefficients that map the current state to the next state: $A=\\begin{bmatrix}1&1&\\frac{1}{2} \\\\ 0&1&1 \\\\ 0&0&1\\end{bmatrix}$ \n",
        "\n",
        "Solving $\\begin{bmatrix}1&1&\\frac{1}{2} \\\\ 0&1&1 \\\\ 0&0&1\\end{bmatrix}\\begin{bmatrix}\n",
        "0 \\\\\n",
        "0 \\\\\n",
        "30\\end{bmatrix}$ gives $x_1$ and so forth as you keep plugging the vector into the dynamical system\n"
      ]
    },
    {
      "cell_type": "markdown",
      "metadata": {
        "id": "vMK5Qol-ER1I"
      },
      "source": [
        "**Fill in the blank in the code cell below for part b**"
      ]
    },
    {
      "cell_type": "code",
      "metadata": {
        "id": "lHLlnCYQEosW",
        "scrolled": true,
        "colab": {
          "base_uri": "https://localhost:8080/",
          "height": 313
        },
        "outputId": "6588c991-1730-4466-b197-00a60f52d574"
      },
      "source": [
        "import matplotlib.pyplot as plt\n",
        "import numpy as np\n",
        "\n",
        "x0 = np.array([0,0,30])\n",
        "A = np.array([[1,1,0.5],[0,1,1],[0,0,1]])\n",
        "states = np.zeros((11,3))\n",
        "states[0] = x0\n",
        "\n",
        "# Use for loop to calculate x_t\n",
        "for t in range(1,11):\n",
        "  states[t]=A @ states[t-1]\n",
        "print(states[0])\n",
        "# Plotting\n",
        "times = np.arange(0, 11, 1)\n",
        "plt.plot(times, states[:,0], color='r', label='Plane Position')\n",
        "plt.plot(times, states[:,1], color='g', label='Plane Velocity')\n",
        "plt.plot(times, states[:,2], color='b', label='Plane Acceleration')\n",
        "\n",
        "# Naming the x-axis, y-axis and the whole graph\n",
        "plt.xlabel(\"Time\")\n",
        "plt.ylabel(\"State Vector\")\n",
        "plt.title(\"State Trajectory of the Plane\")\n",
        "  \n",
        "# Adding legend\n",
        "plt.legend()\n",
        "  \n",
        "# To load the display window\n",
        "plt.show()\n"
      ],
      "execution_count": 2,
      "outputs": [
        {
          "output_type": "stream",
          "name": "stdout",
          "text": [
            "[ 0.  0. 30.]\n"
          ]
        },
        {
          "output_type": "display_data",
          "data": {
            "image/png": "[encoded data removed]",
            "text/plain": [
              "<Figure size 432x288 with 1 Axes>"
            ]
          },
          "metadata": {
            "needs_background": "light"
          }
        }
      ]
    },
    {
      "cell_type": "markdown",
      "metadata": {
        "id": "RO972SlpR7q9"
      },
      "source": [
        "# Problem 3 - Discrete Convolution with Toepliz Matrix (Total Points: 40)\n",
        "\n",
        "We will now explore convolution via the Toepliz matrix.\n",
        "\n",
        "Consider the sinusoid signal defined below in the variable `signal`. We seek to convolve it with a triangle. You can think of this as passing a sinusoidal signal through a detector or imaging system with a triangular \"point spread function\" (PSF). What we measure from the device (the 'image' or 'detection') is the convolution of the signal and the PSF."
      ]
    },
    {
      "cell_type": "code",
      "metadata": {
        "id": "dSoyiFLbR7q9",
        "colab": {
          "base_uri": "https://localhost:8080/",
          "height": 283
        },
        "outputId": "30c38827-d24f-4d77-c464-a1ded8e9f7c7"
      },
      "source": [
        "import numpy as np\n",
        "import matplotlib.pyplot as plt\n",
        "\n",
        "time = np.linspace(0, 10, 21)\n",
        "signal = np.cos(time)\n",
        "\n",
        "plt.plot(signal)"
      ],
      "execution_count": 3,
      "outputs": [
        {
          "output_type": "execute_result",
          "data": {
            "text/plain": [
              "[<matplotlib.lines.Line2D at 0x7f38fd007d50>]"
            ]
          },
          "metadata": {},
          "execution_count": 3
        },
        {
          "output_type": "display_data",
          "data": {
            "image/png": "[encoded data removed]",
            "text/plain": [
              "<Figure size 432x288 with 1 Axes>"
            ]
          },
          "metadata": {
            "needs_background": "light"
          }
        }
      ]
    },
    {
      "cell_type": "markdown",
      "metadata": {
        "id": "gXXb1x_pR7q-"
      },
      "source": [
        "We now seek to convolve this signal vector with the triangular shape given as `g_vec` below:"
      ]
    },
    {
      "cell_type": "code",
      "metadata": {
        "id": "Vxu5YaQmR7q-",
        "colab": {
          "base_uri": "https://localhost:8080/",
          "height": 283
        },
        "outputId": "faed5975-5249-47c3-a5d7-22b10951c070"
      },
      "source": [
        "g_vec = np.array([0.0, 0.1, 0.2, 0.3, 0.4, 0.5, 0.6, 0.7, 0.8, 0.9, 1.0, 0.9, 0.8, 0.7, 0.6, 0.5, 0.4, 0.3, 0.2, 0.1, 0.0])\n",
        "\n",
        "plt.plot(g_vec)"
      ],
      "execution_count": 4,
      "outputs": [
        {
          "output_type": "execute_result",
          "data": {
            "text/plain": [
              "[<matplotlib.lines.Line2D at 0x7f38fcb6bd10>]"
            ]
          },
          "metadata": {},
          "execution_count": 4
        },
        {
          "output_type": "display_data",
          "data": {
            "image/png": "[encoded data removed]",
            "text/plain": [
              "<Figure size 432x288 with 1 Axes>"
            ]
          },
          "metadata": {
            "needs_background": "light"
          }
        }
      ]
    },
    {
      "cell_type": "markdown",
      "metadata": {
        "id": "_h80JgCgR7q-"
      },
      "source": [
        "Construct the Toepliz matrix representation of `g_vec` and store it in the variable `g_mat`. Calculate the convolution of the signal and detector by computing the product of `g_mat` and `signal`. Plot the resulting convolution against the domain `time`.\n",
        "\n",
        "**Hint:** `g_mat` will be a matrix with `len(signal) + len(g_vec) - 1` rows and `len(signal)` columns. The first `len(g_vec)` entries in the first column will just be the entries of `g_vec`, the remainder in the column will be zeros. You can construct the Toepliz matrix by shifting these values down in index with each consecutive column, until the `len(g_vec)` column is reached."
      ]
    },
    {
      "cell_type": "code",
      "metadata": {
        "id": "3wfwX33NR7q-",
        "colab": {
          "base_uri": "https://localhost:8080/",
          "height": 1000
        },
        "outputId": "af331612-e179-4a23-b0c3-f08b6c7d4849"
      },
      "source": [
        "g_mat = np.zeros((len(signal) + len(g_vec) - 1, len(signal)))\n",
        "\n",
        "# i is rows \n",
        "# j is columns\n",
        "for i in range(len(signal) + len(g_vec) - 1):\n",
        "    for j in range(len(signal)):\n",
        "        if i < j:\n",
        "            g_mat[i][j] = 0 # complete this part\n",
        "        elif i > len(g_vec)+j-1:\n",
        "            g_mat[i][j] = 0 # complete this part\n",
        "        else:\n",
        "          # since g is symmetrical, the indeces do not need to be read backwards\n",
        "            g_mat[i][j] = g_vec[i-j] # complete this part\n",
        "        \n",
        "# You can check what g_mat looks like by running the code below:\n",
        "print(g_mat)\n",
        "\n",
        "# Calculate the product of the matrix g_mat and the vector signal below:\n",
        "conv_s_g = g_mat @ signal # complete this part\n",
        "\n",
        "# You can see what your convoluted signal vector looks like by running the code below:\n",
        "print(conv_s_g)\n",
        "\n",
        "plt.plot(conv_s_g)\n",
        "\n",
        "# Check that you correctly computed the convolution by running the code below:\n",
        "conv_check = np.convolve(g_vec, signal)\n",
        "print(conv_check)\n",
        "# using another cell to do plt.plot(conv_check)"
      ],
      "execution_count": 5,
      "outputs": [
        {
          "output_type": "stream",
          "name": "stdout",
          "text": [
            "[[0.  0.  0.  0.  0.  0.  0.  0.  0.  0.  0.  0.  0.  0.  0.  0.  0.  0.\n",
            "  0.  0.  0. ]\n",
            " [0.1 0.  0.  0.  0.  0.  0.  0.  0.  0.  0.  0.  0.  0.  0.  0.  0.  0.\n",
            "  0.  0.  0. ]\n",
            " [0.2 0.1 0.  0.  0.  0.  0.  0.  0.  0.  0.  0.  0.  0.  0.  0.  0.  0.\n",
            "  0.  0.  0. ]\n",
            " [0.3 0.2 0.1 0.  0.  0.  0.  0.  0.  0.  0.  0.  0.  0.  0.  0.  0.  0.\n",
            "  0.  0.  0. ]\n",
            " [0.4 0.3 0.2 0.1 0.  0.  0.  0.  0.  0.  0.  0.  0.  0.  0.  0.  0.  0.\n",
            "  0.  0.  0. ]\n",
            " [0.5 0.4 0.3 0.2 0.1 0.  0.  0.  0.  0.  0.  0.  0.  0.  0.  0.  0.  0.\n",
            "  0.  0.  0. ]\n",
            " [0.6 0.5 0.4 0.3 0.2 0.1 0.  0.  0.  0.  0.  0.  0.  0.  0.  0.  0.  0.\n",
            "  0.  0.  0. ]\n",
            " [0.7 0.6 0.5 0.4 0.3 0.2 0.1 0.  0.  0.  0.  0.  0.  0.  0.  0.  0.  0.\n",
            "  0.  0.  0. ]\n",
            " [0.8 0.7 0.6 0.5 0.4 0.3 0.2 0.1 0.  0.  0.  0.  0.  0.  0.  0.  0.  0.\n",
            "  0.  0.  0. ]\n",
            " [0.9 0.8 0.7 0.6 0.5 0.4 0.3 0.2 0.1 0.  0.  0.  0.  0.  0.  0.  0.  0.\n",
            "  0.  0.  0. ]\n",
            " [1.  0.9 0.8 0.7 0.6 0.5 0.4 0.3 0.2 0.1 0.  0.  0.  0.  0.  0.  0.  0.\n",
            "  0.  0.  0. ]\n",
            " [0.9 1.  0.9 0.8 0.7 0.6 0.5 0.4 0.3 0.2 0.1 0.  0.  0.  0.  0.  0.  0.\n",
            "  0.  0.  0. ]\n",
            " [0.8 0.9 1.  0.9 0.8 0.7 0.6 0.5 0.4 0.3 0.2 0.1 0.  0.  0.  0.  0.  0.\n",
            "  0.  0.  0. ]\n",
            " [0.7 0.8 0.9 1.  0.9 0.8 0.7 0.6 0.5 0.4 0.3 0.2 0.1 0.  0.  0.  0.  0.\n",
            "  0.  0.  0. ]\n",
            " [0.6 0.7 0.8 0.9 1.  0.9 0.8 0.7 0.6 0.5 0.4 0.3 0.2 0.1 0.  0.  0.  0.\n",
            "  0.  0.  0. ]\n",
            " [0.5 0.6 0.7 0.8 0.9 1.  0.9 0.8 0.7 0.6 0.5 0.4 0.3 0.2 0.1 0.  0.  0.\n",
            "  0.  0.  0. ]\n",
            " [0.4 0.5 0.6 0.7 0.8 0.9 1.  0.9 0.8 0.7 0.6 0.5 0.4 0.3 0.2 0.1 0.  0.\n",
            "  0.  0.  0. ]\n",
            " [0.3 0.4 0.5 0.6 0.7 0.8 0.9 1.  0.9 0.8 0.7 0.6 0.5 0.4 0.3 0.2 0.1 0.\n",
            "  0.  0.  0. ]\n",
            " [0.2 0.3 0.4 0.5 0.6 0.7 0.8 0.9 1.  0.9 0.8 0.7 0.6 0.5 0.4 0.3 0.2 0.1\n",
            "  0.  0.  0. ]\n",
            " [0.1 0.2 0.3 0.4 0.5 0.6 0.7 0.8 0.9 1.  0.9 0.8 0.7 0.6 0.5 0.4 0.3 0.2\n",
            "  0.1 0.  0. ]\n",
            " [0.  0.1 0.2 0.3 0.4 0.5 0.6 0.7 0.8 0.9 1.  0.9 0.8 0.7 0.6 0.5 0.4 0.3\n",
            "  0.2 0.1 0. ]\n",
            " [0.  0.  0.1 0.2 0.3 0.4 0.5 0.6 0.7 0.8 0.9 1.  0.9 0.8 0.7 0.6 0.5 0.4\n",
            "  0.3 0.2 0.1]\n",
            " [0.  0.  0.  0.1 0.2 0.3 0.4 0.5 0.6 0.7 0.8 0.9 1.  0.9 0.8 0.7 0.6 0.5\n",
            "  0.4 0.3 0.2]\n",
            " [0.  0.  0.  0.  0.1 0.2 0.3 0.4 0.5 0.6 0.7 0.8 0.9 1.  0.9 0.8 0.7 0.6\n",
            "  0.5 0.4 0.3]\n",
            " [0.  0.  0.  0.  0.  0.1 0.2 0.3 0.4 0.5 0.6 0.7 0.8 0.9 1.  0.9 0.8 0.7\n",
            "  0.6 0.5 0.4]\n",
            " [0.  0.  0.  0.  0.  0.  0.1 0.2 0.3 0.4 0.5 0.6 0.7 0.8 0.9 1.  0.9 0.8\n",
            "  0.7 0.6 0.5]\n",
            " [0.  0.  0.  0.  0.  0.  0.  0.1 0.2 0.3 0.4 0.5 0.6 0.7 0.8 0.9 1.  0.9\n",
            "  0.8 0.7 0.6]\n",
            " [0.  0.  0.  0.  0.  0.  0.  0.  0.1 0.2 0.3 0.4 0.5 0.6 0.7 0.8 0.9 1.\n",
            "  0.9 0.8 0.7]\n",
            " [0.  0.  0.  0.  0.  0.  0.  0.  0.  0.1 0.2 0.3 0.4 0.5 0.6 0.7 0.8 0.9\n",
            "  1.  0.9 0.8]\n",
            " [0.  0.  0.  0.  0.  0.  0.  0.  0.  0.  0.1 0.2 0.3 0.4 0.5 0.6 0.7 0.8\n",
            "  0.9 1.  0.9]\n",
            " [0.  0.  0.  0.  0.  0.  0.  0.  0.  0.  0.  0.1 0.2 0.3 0.4 0.5 0.6 0.7\n",
            "  0.8 0.9 1. ]\n",
            " [0.  0.  0.  0.  0.  0.  0.  0.  0.  0.  0.  0.  0.1 0.2 0.3 0.4 0.5 0.6\n",
            "  0.7 0.8 0.9]\n",
            " [0.  0.  0.  0.  0.  0.  0.  0.  0.  0.  0.  0.  0.  0.1 0.2 0.3 0.4 0.5\n",
            "  0.6 0.7 0.8]\n",
            " [0.  0.  0.  0.  0.  0.  0.  0.  0.  0.  0.  0.  0.  0.  0.1 0.2 0.3 0.4\n",
            "  0.5 0.6 0.7]\n",
            " [0.  0.  0.  0.  0.  0.  0.  0.  0.  0.  0.  0.  0.  0.  0.  0.1 0.2 0.3\n",
            "  0.4 0.5 0.6]\n",
            " [0.  0.  0.  0.  0.  0.  0.  0.  0.  0.  0.  0.  0.  0.  0.  0.  0.1 0.2\n",
            "  0.3 0.4 0.5]\n",
            " [0.  0.  0.  0.  0.  0.  0.  0.  0.  0.  0.  0.  0.  0.  0.  0.  0.  0.1\n",
            "  0.2 0.3 0.4]\n",
            " [0.  0.  0.  0.  0.  0.  0.  0.  0.  0.  0.  0.  0.  0.  0.  0.  0.  0.\n",
            "  0.1 0.2 0.3]\n",
            " [0.  0.  0.  0.  0.  0.  0.  0.  0.  0.  0.  0.  0.  0.  0.  0.  0.  0.\n",
            "  0.  0.1 0.2]\n",
            " [0.  0.  0.  0.  0.  0.  0.  0.  0.  0.  0.  0.  0.  0.  0.  0.  0.  0.\n",
            "  0.  0.  0.1]\n",
            " [0.  0.  0.  0.  0.  0.  0.  0.  0.  0.  0.  0.  0.  0.  0.  0.  0.  0.\n",
            "  0.  0.  0. ]]\n",
            "[ 0.          0.1         0.28775826  0.52954674  0.77840895  0.98565647\n",
            "  1.11278963  1.14092355  1.07541179  0.94453567  0.79257997  0.46899049\n",
            "  0.04075148 -0.39953097 -0.7563021  -0.95445363 -0.95771291 -0.77752369\n",
            " -0.47024432 -0.12334926  0.16598775  0.41468517  0.60940689  0.66612478\n",
            "  0.53459887  0.21067782 -0.26268465 -0.80594637 -1.32245137 -1.72209469\n",
            " -1.94338315 -1.96849109 -1.92273205 -1.78095598 -1.54152115 -1.22669609\n",
            " -0.8772075  -0.54226892 -0.26753152 -0.08390715  0.        ]\n",
            "[ 0.          0.1         0.28775826  0.52954674  0.77840895  0.98565647\n",
            "  1.11278963  1.14092355  1.07541179  0.94453567  0.79257997  0.46899049\n",
            "  0.04075148 -0.39953097 -0.7563021  -0.95445363 -0.95771291 -0.77752369\n",
            " -0.47024432 -0.12334926  0.16598775  0.41468517  0.60940689  0.66612478\n",
            "  0.53459887  0.21067782 -0.26268465 -0.80594637 -1.32245137 -1.72209469\n",
            " -1.94338315 -1.96849109 -1.92273205 -1.78095598 -1.54152115 -1.22669609\n",
            " -0.8772075  -0.54226892 -0.26753152 -0.08390715  0.        ]\n"
          ]
        },
        {
          "output_type": "display_data",
          "data": {
            "image/png": "[encoded data removed]",
            "text/plain": [
              "<Figure size 432x288 with 1 Axes>"
            ]
          },
          "metadata": {
            "needs_background": "light"
          }
        }
      ]
    },
    {
      "cell_type": "code",
      "metadata": {
        "id": "2hYFhwkucM7w"
      },
      "source": [
        ""
      ],
      "execution_count": 5,
      "outputs": []
    },
    {
      "cell_type": "code",
      "metadata": {
        "colab": {
          "base_uri": "https://localhost:8080/",
          "height": 283
        },
        "id": "pbbKk1_Fh3Or",
        "outputId": "4d019736-f8aa-4494-b10c-0c76a2d7437d"
      },
      "source": [
        "#new cell in order to print check graph\n",
        "plt.plot(conv_check)"
      ],
      "execution_count": 6,
      "outputs": [
        {
          "output_type": "execute_result",
          "data": {
            "text/plain": [
              "[<matplotlib.lines.Line2D at 0x7f38fca598d0>]"
            ]
          },
          "metadata": {},
          "execution_count": 6
        },
        {
          "output_type": "display_data",
          "data": {
            "image/png": "[encoded data removed]",
            "text/plain": [
              "<Figure size 432x288 with 1 Axes>"
            ]
          },
          "metadata": {
            "needs_background": "light"
          }
        }
      ]
    },
    {
      "cell_type": "code",
      "metadata": {
        "id": "WgdHwQe6h_7z"
      },
      "source": [
        ""
      ],
      "execution_count": 6,
      "outputs": []
    }
  ]
}
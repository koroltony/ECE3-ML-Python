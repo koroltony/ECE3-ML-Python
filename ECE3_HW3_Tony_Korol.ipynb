{
  "nbformat": 4,
  "nbformat_minor": 0,
  "metadata": {
    "colab": {
      "name": "ECE3_HW3_Tony_Korol.ipynb",
      "provenance": [],
      "collapsed_sections": [
        "TUU2mXLwYe29"
      ]
    },
    "kernelspec": {
      "name": "python3",
      "display_name": "Python 3"
    },
    "language_info": {
      "name": "python"
    }
  },
  "cells": [
    {
      "cell_type": "markdown",
      "metadata": {
        "id": "XJcXzC1IYiDX"
      },
      "source": [
        "# ECE 3 : Homework 3"
      ]
    },
    {
      "cell_type": "markdown",
      "metadata": {
        "id": "TUU2mXLwYe29"
      },
      "source": [
        "## Instructions\n",
        "\n",
        "To get started, you should go through the following steps.\n",
        "- Rename this jupyter notebook by adding your name: e.g. `ECE3_HW3_<your-name>.ipynb`.\n",
        "- Complete all the exercises by directly editing your notebook.\n",
        "- Make sure that the coding portions run without errors."
      ]
    },
    {
      "cell_type": "markdown",
      "metadata": {
        "id": "k_6HcvSUj9xb"
      },
      "source": [
        "## Problem 1 - Clustering with k-means algorithm (Total points 30: 10 + 5 + 10 + 5)\n",
        "\n",
        "\n"
      ]
    },
    {
      "cell_type": "markdown",
      "metadata": {
        "id": "6NEc2O_joHez"
      },
      "source": [
        "For this exercise we will use the \"Digits\" dataset from the scikit-learn package. \n",
        "\n",
        "The following chunk of code loads the dataset and prints a full description of it. Run it and carefully go through the description.\n"
      ]
    },
    {
      "cell_type": "code",
      "metadata": {
        "colab": {
          "base_uri": "https://localhost:8080/"
        },
        "id": "EAnbXz7_n8GK",
        "outputId": "9ed56610-dd71-4117-b292-fd51bcb7bfcf"
      },
      "source": [
        "import numpy as np\n",
        "from sklearn.datasets import load_digits\n",
        "\n",
        "dataset = load_digits()\n",
        "print(dataset.DESCR)"
      ],
      "execution_count": 1,
      "outputs": [
        {
          "output_type": "stream",
          "name": "stdout",
          "text": [
            ".. _digits_dataset:\n",
            "\n",
            "Optical recognition of handwritten digits dataset\n",
            "--------------------------------------------------\n",
            "\n",
            "**Data Set Characteristics:**\n",
            "\n",
            "    :Number of Instances: 5620\n",
            "    :Number of Attributes: 64\n",
            "    :Attribute Information: 8x8 image of integer pixels in the range 0..16.\n",
            "    :Missing Attribute Values: None\n",
            "    :Creator: E. Alpaydin (alpaydin '@' boun.edu.tr)\n",
            "    :Date: July; 1998\n",
            "\n",
            "This is a copy of the test set of the UCI ML hand-written digits datasets\n",
            "https://archive.ics.uci.edu/ml/datasets/Optical+Recognition+of+Handwritten+Digits\n",
            "\n",
            "The data set contains images of hand-written digits: 10 classes where\n",
            "each class refers to a digit.\n",
            "\n",
            "Preprocessing programs made available by NIST were used to extract\n",
            "normalized bitmaps of handwritten digits from a preprinted form. From a\n",
            "total of 43 people, 30 contributed to the training set and different 13\n",
            "to the test set. 32x32 bitmaps are divided into nonoverlapping blocks of\n",
            "4x4 and the number of on pixels are counted in each block. This generates\n",
            "an input matrix of 8x8 where each element is an integer in the range\n",
            "0..16. This reduces dimensionality and gives invariance to small\n",
            "distortions.\n",
            "\n",
            "For info on NIST preprocessing routines, see M. D. Garris, J. L. Blue, G.\n",
            "T. Candela, D. L. Dimmick, J. Geist, P. J. Grother, S. A. Janet, and C.\n",
            "L. Wilson, NIST Form-Based Handprint Recognition System, NISTIR 5469,\n",
            "1994.\n",
            "\n",
            ".. topic:: References\n",
            "\n",
            "  - C. Kaynak (1995) Methods of Combining Multiple Classifiers and Their\n",
            "    Applications to Handwritten Digit Recognition, MSc Thesis, Institute of\n",
            "    Graduate Studies in Science and Engineering, Bogazici University.\n",
            "  - E. Alpaydin, C. Kaynak (1998) Cascading Classifiers, Kybernetika.\n",
            "  - Ken Tang and Ponnuthurai N. Suganthan and Xi Yao and A. Kai Qin.\n",
            "    Linear dimensionalityreduction using relevance weighted LDA. School of\n",
            "    Electrical and Electronic Engineering Nanyang Technological University.\n",
            "    2005.\n",
            "  - Claudio Gentile. A New Approximate Maximal Margin Classification\n",
            "    Algorithm. NIPS. 2000.\n"
          ]
        }
      ]
    },
    {
      "cell_type": "markdown",
      "metadata": {
        "id": "PR4yx9Mpor_8"
      },
      "source": [
        "#### (a) The dataset contains 1797 images of handwritten digits (the description says that the number of instances is 5620 but that's a mistake). Each image has resolution 8x8 pixels. Here the images have been reshaped to vectors of size 64x1. Confirm this by running the following chunk of code."
      ]
    },
    {
      "cell_type": "code",
      "metadata": {
        "colab": {
          "base_uri": "https://localhost:8080/"
        },
        "id": "MroaPJTnoUlo",
        "outputId": "0e6bd90e-57c4-4277-ef37-8ae985421c24"
      },
      "source": [
        "X = dataset.images # images go here\n",
        "y = dataset.target # labels go here\n",
        "z = dataset.data\n",
        "\n",
        "print(\"The images are inlcuded in a matrix of shape:\", X.shape)\n",
        "print(\"The labels are included in a vector of length:\", y.shape)\n",
        "print(\"alternative formatting for images:\", z.shape)"
      ],
      "execution_count": 2,
      "outputs": [
        {
          "output_type": "stream",
          "name": "stdout",
          "text": [
            "The images are inlcuded in a matrix of shape: (1797, 8, 8)\n",
            "The labels are included in a vector of length: (1797,)\n",
            "alternative formatting for images: (1797, 64)\n"
          ]
        }
      ]
    },
    {
      "cell_type": "markdown",
      "metadata": {
        "id": "AT1q6ua5MZx5"
      },
      "source": [
        "#### (b) Let's take a look at our data and labels, display the 11th and the 231th images and their respective labels:"
      ]
    },
    {
      "cell_type": "code",
      "metadata": {
        "id": "KvxF5luAMZMf",
        "colab": {
          "base_uri": "https://localhost:8080/",
          "height": 494
        },
        "outputId": "56cdb774-ae0c-4a85-f4dd-56e3b884dd2d"
      },
      "source": [
        "import matplotlib.pyplot as plt\n",
        "\n",
        "# Display the first digit\n",
        "plt.figure(1, figsize=(3, 3))\n",
        "\n",
        "# we have saved the images as 64x1 vectors, for the purpose of plotting we will\n",
        "# convert them to size 8x8. For the rest of the questions just use array X\n",
        "images = X.reshape(-1, 8, 8)\n",
        "\n",
        "print('The 11th image is one of digit {}:'.format(y[10]))\n",
        "plt.imshow(images[10,:,:], cmap=plt.cm.gray_r, interpolation='nearest')\n",
        "plt.show()\n",
        "\n",
        "print('The 231th image is one of digit {}:'.format(y[230]))\n",
        "plt.imshow(images[230,:,:], cmap=plt.cm.gray_r, interpolation='nearest')\n",
        "plt.show()"
      ],
      "execution_count": 3,
      "outputs": [
        {
          "output_type": "stream",
          "name": "stdout",
          "text": [
            "The 11th image is one of digit 0:\n"
          ]
        },
        {
          "output_type": "display_data",
          "data": {
            "image/png": "[encoded data removed]",
            "text/plain": [
              "<Figure size 216x216 with 1 Axes>"
            ]
          },
          "metadata": {
            "needs_background": "light"
          }
        },
        {
          "output_type": "stream",
          "name": "stdout",
          "text": [
            "The 231th image is one of digit 5:\n"
          ]
        },
        {
          "output_type": "display_data",
          "data": {
            "image/png": "[encoded data removed]",
            "text/plain": [
              "<Figure size 432x288 with 1 Axes>"
            ]
          },
          "metadata": {
            "needs_background": "light"
          }
        }
      ]
    },
    {
      "cell_type": "markdown",
      "metadata": {
        "id": "g8fAJ8jfqOGg"
      },
      "source": [
        "In this exercise we will ignore the existence of the labels and we will assign our images to different clusters based only on the images themselves.\n",
        "\n",
        "This is called **clustering** and it's an **unsupervised** learning task, as it's done with no knowledge of the true labels. In contrast, both **classification** and **regression** are **supervised** learning tasks, as to train our models we need to know the true labels/response variable of the training data."
      ]
    },
    {
      "cell_type": "markdown",
      "metadata": {
        "id": "J2BbFGhJtKUJ"
      },
      "source": [
        "### The K-means algorithm\n",
        "\n",
        "k-means is an algorithm that performs clustering. k is a parameter that indicates the number of clusters. After we choose what k to run the algorithm for, the algorithm proceeds as follows:\n",
        "\n",
        "1.  We pick k points from the dataset at random. We call these points the \"centroids\" or the \"representatives \"of the clusters.\n",
        "2.  For each point in the dataset we calculate its distance to the k centroids and we assign to the cluster with the closest centroid.\n",
        "3. For each cluster, we calculate a new centroid as the mean of its points. These new centroids don't have to belong to the dataset.\n",
        "4. We repeat steps 2 & 3 until the centroid positions don't change.\n",
        "\n",
        "In our example, we know that we're dealing with digits so we will set k=10."
      ]
    },
    {
      "cell_type": "markdown",
      "metadata": {
        "id": "OpTymyvmySjt"
      },
      "source": [
        "#### (c) Use sklearn's KMeans class to perform K-means clustering on the digits dataset. Store the result in a NumPy vector."
      ]
    },
    {
      "cell_type": "code",
      "metadata": {
        "id": "dOQszRx7qNjd",
        "colab": {
          "base_uri": "https://localhost:8080/"
        },
        "outputId": "d223485d-7f23-4cbd-a40f-e30f7e6e98c0"
      },
      "source": [
        "from sklearn.cluster import KMeans\n",
        "\n",
        "# Type your solution below\n",
        "\n",
        "kmeans = KMeans(n_clusters=10, random_state=0)\n",
        "kmeans.fit(dataset.data)\n",
        "\n",
        "y_pred = kmeans.predict(dataset.data)\n",
        "#test code\n",
        "print(y_pred)\n",
        "print(type(y_pred))\n",
        "print(dataset.target)"
      ],
      "execution_count": 4,
      "outputs": [
        {
          "output_type": "stream",
          "name": "stdout",
          "text": [
            "[5 9 9 ... 9 4 4]\n",
            "<class 'numpy.ndarray'>\n",
            "[0 1 2 ... 8 9 8]\n"
          ]
        }
      ]
    },
    {
      "cell_type": "markdown",
      "metadata": {
        "id": "uFRPUAvE2SMH"
      },
      "source": [
        "### Clustering performance metrics\n",
        "\n",
        "After performing clustering, you have assigned a label to each point in the dataset. However, this isn't necessarily the same label as the true label. Here for example, you may have correctly grouped all zeros to the same cluster but assigned this cluster the label 5. Thus, accuracy (as it was defined in Problem 1) it's not an informative metric for the performance of clustering algorithms.\n",
        "\n",
        "An appropriate metric for clustering performance is the **Adjusted Rand index**, which is a function that measures the similarity between the true and the predicted label assignments, ignoring permutations."
      ]
    },
    {
      "cell_type": "markdown",
      "metadata": {
        "id": "8r6wwj--qM_U"
      },
      "source": [
        "#### (d) Calculate the algorithm's adjusted rand index using sklearn's built-in method and print out the result."
      ]
    },
    {
      "cell_type": "code",
      "metadata": {
        "id": "hKON7VVLseKw",
        "colab": {
          "base_uri": "https://localhost:8080/"
        },
        "outputId": "5c01c2de-5c8e-4519-d607-36cf88dc792f"
      },
      "source": [
        "from sklearn.metrics import adjusted_rand_score\n",
        "\n",
        "# type your solution below\n",
        "\n",
        "ari = adjusted_rand_score(y_pred,dataset.target) \n",
        "print(ari)"
      ],
      "execution_count": 5,
      "outputs": [
        {
          "output_type": "stream",
          "name": "stdout",
          "text": [
            "0.6703800183468681\n"
          ]
        }
      ]
    },
    {
      "cell_type": "markdown",
      "metadata": {
        "id": "LEzl8zxLlDmo"
      },
      "source": [
        "## Problem 2 - Matrix Norm and Distance (Total points: $40 = 5+8+2+5+8+6+6$)"
      ]
    },
    {
      "cell_type": "markdown",
      "metadata": {
        "id": "Njx0q7mv6iy0"
      },
      "source": [
        "**This is not a Python problem. You can optionally chose to verify your answers using Python**\n",
        "\n",
        "\n",
        "Let $A=\\begin{bmatrix}\n",
        "2&3&1\\\\\n",
        "3&1&5\n",
        "\\end{bmatrix}$ and \n",
        "$B=\\begin{bmatrix}\n",
        "1&3&2\\\\\n",
        "3&0&4\n",
        "\\end{bmatrix}$."
      ]
    },
    {
      "cell_type": "markdown",
      "metadata": {
        "id": "f1z01i1un9Cm"
      },
      "source": [
        "\n",
        " a) Calculate the norm of matrix $A$.\n",
        "\n",
        " b) Let us multiply matrix $A$ by a scalar 2. Calculate $2A$ and the norm of matrix $2A$ and $\\frac{||2A||}{||A||}$.\n",
        "\n",
        " c) For a general scalar $k$, write an expression for $||kA||$ that contains only $k$ and $||A||$.\n",
        "\n",
        " d) Calculate the distance between matrix $A$ and $B$.\n",
        "\n",
        " e) Compute the value of $(3A -B)^T$.\n",
        "\n",
        " f) Consider the 2 vectors forming the rows of A. Are they linearly independent ?\n",
        "\n",
        " g) Consider the 3 vectors forming the columns of B. Are they linearly independent ?\n",
        "\n"
      ]
    },
    {
      "cell_type": "markdown",
      "metadata": {
        "id": "l0wEuwqLMaTR"
      },
      "source": [
        "**Write your answers here**"
      ]
    },
    {
      "cell_type": "markdown",
      "metadata": {
        "id": "Jq_VtzXgogbB"
      },
      "source": [
        "a) norm of A is $\\sqrt{(A_{0,0}^2+A_{0,1}^2...+A_{i,j}^2)}=\\sqrt{2^2+3^2+1^2+3^2+1^2+5^2)}=\\sqrt{49}=7$\n",
        "\n",
        "b) $2A=\\begin{bmatrix}\n",
        "2*2&2*3&2*1\\\\\n",
        "2*3&2*1&2*5\n",
        "\\end{bmatrix}=\\begin{bmatrix}\n",
        "4&6&2\\\\\n",
        "6&2&10\n",
        "\\end{bmatrix}$\n",
        "\n",
        "$||2A||=\\sqrt{4^2+6^2+2^2+6^2+2^2+10^2)}=\\sqrt{196}=14$\n",
        "\n",
        "$\\frac{||2A||}{||A||}=\\frac{14}{7}=2$\n",
        "\n",
        "c) $||kA||=|k|||A||$ \n",
        "\n",
        "d) distance = $||A-B||=\\sqrt{(A_{0,0}-B_{0,0})^2+...(A_{i,j}-B_{i,j})^2}=\\sqrt{(2-1)^2+(3-3)^2+(1-2)^2+(3-3)^2+(1-0)^2+(5-4)^2)}=\\sqrt{4}=2$\n",
        "\n",
        "e) $(3A -B)^T = (\\begin{bmatrix}\n",
        "6&9&3\\\\\n",
        "9&3&15\n",
        "\\end{bmatrix}-\\begin{bmatrix}\n",
        "1&3&2\\\\\n",
        "3&0&4\n",
        "\\end{bmatrix})^T=\\begin{bmatrix}\n",
        "5&6&1\\\\\n",
        "6&3&11\n",
        "\\end{bmatrix}^T=\\begin{bmatrix}\n",
        "5&6\\\\\n",
        "6&3\\\\\n",
        "1&11\n",
        "\\end{bmatrix}$ \n",
        "\n",
        "f) $\\begin{bmatrix}\n",
        "2\\\\\n",
        "3\\\\\n",
        "1\n",
        "\\end{bmatrix}$and$\\begin{bmatrix}\n",
        "3\\\\\n",
        "1\\\\\n",
        "5\n",
        "\\end{bmatrix}$   evaluating via REF: $\\begin{bmatrix}\n",
        "2&3\\\\\n",
        "3&1\\\\\n",
        "1&5\n",
        "\\end{bmatrix}=\\begin{bmatrix}\n",
        "1&0\\\\\n",
        "0&1\\\\\n",
        "0&0\n",
        "\\end{bmatrix}$ \n",
        "\n",
        "since each column contains a pivot, these vectors are linearly independent. There is no scalar value that can transform one vector onto the other. Thus the vectors are linearly independent.\n",
        "\n",
        "g) $\\begin{bmatrix}\n",
        "1\\\\\n",
        "3\\end{bmatrix}\\begin{bmatrix}\n",
        "3\\\\\n",
        "0\\end{bmatrix}\\begin{bmatrix}\n",
        "2\\\\\n",
        "4\\end{bmatrix} $evaluating via RREF:$ \\begin{bmatrix}\n",
        "1&0&\\frac{4}{3}\\\\\n",
        "0&1&\\frac{2}{9}\n",
        "\\end{bmatrix}$\n",
        "\n",
        "since not every column contains a pivot point, there is a free variable, thus there are multiple non-zero combinations that could map the vectors onto each other. Thus, the vectors are not linearly independent.\n"
      ]
    },
    {
      "cell_type": "code",
      "metadata": {
        "colab": {
          "base_uri": "https://localhost:8080/"
        },
        "id": "XHFzF8jvMGjd",
        "outputId": "6d21c0f8-c7c2-48c2-e50f-79d3920e4910"
      },
      "source": [
        "import numpy as np\n",
        "\n",
        "A = np.array([[2, 3, 1], [3, 1, 5]])\n",
        "B = np.array([[1,3,2],[3,0,4]])\n",
        "print(\"part a:\")\n",
        "print(np.linalg.norm(A))\n",
        "print(\"part b,i:\")\n",
        "print(2*A)\n",
        "print(\"part b,ii:\")\n",
        "print(np.linalg.norm(2*A))\n",
        "print(\"part b,iii:\")\n",
        "print(np.linalg.norm(2*A)/np.linalg.norm(A))\n",
        "print(\"part d:\")\n",
        "print(np.linalg.norm(np.subtract(A,B)))\n",
        "print(\"part e:\")\n",
        "print(np.subtract(3*A,B).T)\n",
        "\n"
      ],
      "execution_count": 6,
      "outputs": [
        {
          "output_type": "stream",
          "name": "stdout",
          "text": [
            "part a:\n",
            "7.0\n",
            "part b,i:\n",
            "[[ 4  6  2]\n",
            " [ 6  2 10]]\n",
            "part b,ii:\n",
            "14.0\n",
            "part b,iii:\n",
            "2.0\n",
            "part d:\n",
            "2.0\n",
            "part e:\n",
            "[[ 5  6]\n",
            " [ 6  3]\n",
            " [ 1 11]]\n"
          ]
        }
      ]
    },
    {
      "cell_type": "code",
      "metadata": {
        "id": "SFzyoKUSLf5a"
      },
      "source": [
        ""
      ],
      "execution_count": 6,
      "outputs": []
    }
  ]
}
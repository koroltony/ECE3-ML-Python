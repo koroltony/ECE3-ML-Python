{
  "nbformat": 4,
  "nbformat_minor": 0,
  "metadata": {
    "colab": {
      "name": "ECE3_HW2_Tony_Korol_final.ipynb",
      "provenance": [],
      "collapsed_sections": []
    },
    "kernelspec": {
      "name": "python3",
      "display_name": "Python 3"
    },
    "language_info": {
      "name": "python"
    }
  },
  "cells": [
    {
      "cell_type": "markdown",
      "metadata": {
        "id": "XJcXzC1IYiDX"
      },
      "source": [
        "# ECE 3 : Homework 2"
      ]
    },
    {
      "cell_type": "markdown",
      "metadata": {
        "id": "TUU2mXLwYe29"
      },
      "source": [
        "## Instructions\n",
        "\n",
        "To get started, you should go through the following steps.\n",
        "- Rename this jupyter notebook by adding your name: e.g. `ECE3_HW2_<your-name>.ipynb`.\n",
        "- Complete all the exercises by directly editing your notebook.\n",
        "- Make sure that the coding portions run without errors.\n",
        "- You can also upload this file to Google Colab and edit it there instead of using Jupyter Notebook locally. Doing this helped resolve some issues with importing libraries in HW1."
      ]
    },
    {
      "cell_type": "markdown",
      "metadata": {
        "id": "L6_BURW6j3xn"
      },
      "source": [
        "## Problem 1 - Regression using the k-NN algorithm\n",
        "\n"
      ]
    },
    {
      "cell_type": "markdown",
      "metadata": {
        "id": "Hhj4lhRum32i"
      },
      "source": [
        "For this exercise we will use the \"Diabetes\" dataset from the scikit-learn package.\n",
        "\n",
        "The following chunk of code loads the dataset and prints a full description of it. Run it and carefully go through the description.\n"
      ]
    },
    {
      "cell_type": "code",
      "metadata": {
        "colab": {
          "base_uri": "https://localhost:8080/"
        },
        "id": "Hge0HWz8j3QT",
        "outputId": "6198577f-a641-48a7-ef49-dd78647b4d5e"
      },
      "source": [
        "import numpy as np\n",
        "from sklearn.datasets import load_diabetes\n",
        "\n",
        "dataset = load_diabetes()\n",
        "print(dataset.DESCR)"
      ],
      "execution_count": 1,
      "outputs": [
        {
          "output_type": "stream",
          "name": "stdout",
          "text": [
            ".. _diabetes_dataset:\n",
            "\n",
            "Diabetes dataset\n",
            "----------------\n",
            "\n",
            "Ten baseline variables, age, sex, body mass index, average blood\n",
            "pressure, and six blood serum measurements were obtained for each of n =\n",
            "442 diabetes patients, as well as the response of interest, a\n",
            "quantitative measure of disease progression one year after baseline.\n",
            "\n",
            "**Data Set Characteristics:**\n",
            "\n",
            "  :Number of Instances: 442\n",
            "\n",
            "  :Number of Attributes: First 10 columns are numeric predictive values\n",
            "\n",
            "  :Target: Column 11 is a quantitative measure of disease progression one year after baseline\n",
            "\n",
            "  :Attribute Information:\n",
            "      - Age\n",
            "      - Sex\n",
            "      - Body mass index\n",
            "      - Average blood pressure\n",
            "      - S1\n",
            "      - S2\n",
            "      - S3\n",
            "      - S4\n",
            "      - S5\n",
            "      - S6\n",
            "\n",
            "Note: Each of these 10 feature variables have been mean centered and scaled by the standard deviation times `n_samples` (i.e. the sum of squares of each column totals 1).\n",
            "\n",
            "Source URL:\n",
            "https://www4.stat.ncsu.edu/~boos/var.select/diabetes.html\n",
            "\n",
            "For more information see:\n",
            "Bradley Efron, Trevor Hastie, Iain Johnstone and Robert Tibshirani (2004) \"Least Angle Regression,\" Annals of Statistics (with discussion), 407-499.\n",
            "(https://web.stanford.edu/~hastie/Papers/LARS/LeastAngle_2002.pdf)\n"
          ]
        }
      ]
    },
    {
      "cell_type": "markdown",
      "metadata": {
        "id": "DTi1gUKbpGpb"
      },
      "source": [
        "We see that the dataset consists of 10 attributes, including demographic information (such as age and sex) and various health measurements (such as BMI and blood pressure) for 442 diabetes patients. It also includes a response variable for each one of the patients, which is a measure of the progression of their disease. \n",
        "\n",
        "The attributes (a.k.a. the features or the data or the samples or the inputs) and the response variable (a.k.a. the target or the output) are given to us in the form of NumPy arrays. Let's assign them to variables X and y respectively and inspect their shape. Try to think of what their shape should be before running the following block of code."
      ]
    },
    {
      "cell_type": "code",
      "metadata": {
        "colab": {
          "base_uri": "https://localhost:8080/"
        },
        "id": "P289dc4slst8",
        "outputId": "54f0ea5a-ab8f-4b65-913f-6549526f3786"
      },
      "source": [
        "X, y = dataset.data, dataset.target\n",
        "\n",
        "print(\"The attributes are inlcuded in a matrix of shape:\", X.shape)\n",
        "print(\"The response variables are included in a vector of length:\", y.shape)"
      ],
      "execution_count": 2,
      "outputs": [
        {
          "output_type": "stream",
          "name": "stdout",
          "text": [
            "The attributes are inlcuded in a matrix of shape: (442, 10)\n",
            "The response variables are included in a vector of length: (442,)\n"
          ]
        }
      ]
    },
    {
      "cell_type": "markdown",
      "metadata": {
        "id": "_lPHu5EVs7SO"
      },
      "source": [
        "We see that both the data matrix and the target vector have 442 rows, that is because we have 442 patients, with one row of data corresponding to each one of them. The data matrix has 10 columns, because for each patient we collect 10 demographic and health measurements. The target array is just a vector (i.e. it has only 1 column) as for each patient we only have one response measurement."
      ]
    },
    {
      "cell_type": "markdown",
      "metadata": {
        "id": "jI3qrnHx_F4B"
      },
      "source": [
        "Now lets take a closer look at the target vector:"
      ]
    },
    {
      "cell_type": "code",
      "metadata": {
        "id": "vac0BjYJs6qQ",
        "colab": {
          "base_uri": "https://localhost:8080/"
        },
        "outputId": "b1cf7c19-a7e5-42dc-fb7d-d4862f310a08"
      },
      "source": [
        "print(\"The data type of the target is:\", y.dtype)\n",
        "print(\"Target values range from\", np.min(y), \"to\", np.max(y))"
      ],
      "execution_count": 3,
      "outputs": [
        {
          "output_type": "stream",
          "name": "stdout",
          "text": [
            "The data type of the target is: float64\n",
            "Target values range from 25.0 to 346.0\n"
          ]
        }
      ]
    },
    {
      "cell_type": "markdown",
      "metadata": {
        "id": "EJvA5O0VwUQ2"
      },
      "source": [
        "We see that the target here is a floating point number which can take a broad range of values. The exact value of the target is different for every patient. It is obvious that there is a connection between the health measurements and the demographic group of a person and the progression of that persons disease. More formally we can think that there is some function $f$ that maps the attributes to the target:\n",
        "\n",
        "$$\\text{disease progression} = f(age, sex, ..., s_6)$$\n",
        "\n",
        "However, we don't know what this function $f$ looks like! It could be that:\n",
        "\n",
        "$$f(age, sex, ..., s6) = \\text{age}^2 - 2*\\text{bmi}^3 + ... + \\frac{1}{s_6}$$\n",
        "\n",
        "or that:\n",
        "\n",
        "$$f(age, sex, ..., s6) = \\text{age} + 2*log(\\text{bmi}) + ... - {s_5}$$\n",
        "\n",
        "or really anything else! \n",
        "\n",
        "If we knew what the function was then we could help doctors give better advise to their patients (e.g. to lower their bmi or eat some food that's going to increase their $s_3$ measurement). \n",
        "\n",
        "Our goal in this exercise is to use the data that are available to us and try to deduce what is the relationship between the attributes and the target. Equivalently, you can also say that our goal is to estimate what the response variable would be for any set of values the attributes can take. This task is called **regression**!\n",
        "\n",
        "If our target was not a continuous variable but a discrete one, then our goal would be to use the data to decide to which one of a number of classes a sample belongs. This task is called **classification** and it is discussed more in depth on Lab 4, where we see that we can use similar algorithms for it."
      ]
    },
    {
      "cell_type": "markdown",
      "metadata": {
        "id": "bqlS96muFZJa"
      },
      "source": [
        "### Training and Test Sets\n",
        "\n",
        "To perform regression we will follow the following strategy. We will split our data in two groups, the training set and the test set. We will use the training set to deduce an approximation $f^\\prime$ of the real function $f$ and we will use the test set to check how close is our estimate of the response value when we use $f'$ to the observed response value. Typically, we assign most of our data to the training set and keep only about $20-30\\%$ of them for the test set."
      ]
    },
    {
      "cell_type": "code",
      "metadata": {
        "id": "XaU28k95KAvh"
      },
      "source": [
        "from sklearn.model_selection import train_test_split\n",
        "\n",
        "X_train, X_test, y_train, y_test = train_test_split(X, y, test_size=0.2, random_state=0)"
      ],
      "execution_count": 4,
      "outputs": []
    },
    {
      "cell_type": "markdown",
      "metadata": {
        "id": "jAeATx-BINjC"
      },
      "source": [
        "### The k-NN algorithm for regression\n",
        "\n",
        "A simple regression algorithm is the k Nearest Neighbors algorithm. In k-NN regression the response of a datapoint is estimated as the average of the values of its k nearest neighbors.\n",
        "\n",
        "*   \"Nearest\" is defined with respect to some distance metric, usually that is the euclidean distance, however other distances are more appropriate for some applications\n",
        "*   k is a parameter chosen by the engineer, it is taken to be odd to avoid a situation where we can't decide because of a tie\n",
        "\n",
        "In this exercise you will implement the k-NN rule, using the euclidean distance, to estimate a response for each datapoint in the test set. Then you will compare that to the observed response to evaluate the performance of the algorithm."
      ]
    },
    {
      "cell_type": "markdown",
      "metadata": {
        "id": "Odxv61LqJM1o"
      },
      "source": [
        "#### (a) Write a function that calculates the euclidean distance between two points:"
      ]
    },
    {
      "cell_type": "code",
      "metadata": {
        "id": "ahnQeS2AJNc-"
      },
      "source": [
        "# Replace \"...\" with your code\n",
        "\n",
        "def eucl_dist(a, b):\n",
        "\n",
        "    return np.sum((np.subtract(a,b)) ** 2) ** (1/2)"
      ],
      "execution_count": 5,
      "outputs": []
    },
    {
      "cell_type": "markdown",
      "metadata": {
        "id": "pFVqrWW5JP-4"
      },
      "source": [
        "#### (b) Write a function that receives as arguments a point and the training set, and calculates the distance of that point from all the points of the training set. The function should return a vector of length equal to the number of points in the training set. You can opt to you use the previous function that you wrote or not."
      ]
    },
    {
      "cell_type": "code",
      "metadata": {
        "id": "ZL0X779NJSwN"
      },
      "source": [
        "# Replace \"...\" with your code\n",
        "\n",
        "def dist_from_training_set(a, X):\n",
        "  array = np.empty(len(X),)\n",
        "  index_count = 0\n",
        "  for i in X:\n",
        "    distance = eucl_dist(i,a)\n",
        "    array[index_count]=distance\n",
        "    index_count = index_count + 1\n",
        "  return array\n",
        "\n",
        "#  return np.sum((X-a)**2,axis=1)**(1/2)\n",
        "\n",
        "# Alternatively you can write you own version this function, using a loop to\n",
        "# iteratively call the function from part (a) for each point in the training set"
      ],
      "execution_count": 6,
      "outputs": []
    },
    {
      "cell_type": "markdown",
      "metadata": {
        "id": "jyhFJV7YMDA2"
      },
      "source": [
        "#### (c) Write a function that receives as arguments a point, the training data, the training labels and an odd positive number k and implements that k-NN regression to return an estimated value. (Hint: modify your solution to Problem 1 - Part (c))\n",
        "\n"
      ]
    },
    {
      "cell_type": "code",
      "metadata": {
        "id": "5Q3tefsTK5il"
      },
      "source": [
        "# Replace \"...\" with your code\n",
        "\n",
        "def kNN(a, X, y, k):\n",
        "\n",
        "    # calculate the distances of a from all the points in X\n",
        "    distances = dist_from_training_set(a, X) \n",
        "    # find the indices of X that correspond the k closest neighbors of a\n",
        "    nn_indices = distances.argsort()[:k][::-1]\n",
        "    # find the values of the k closest neighbors of a\n",
        "    nn_values = y[nn_indices]\n",
        "\n",
        "    # return the mean of the values that you found\n",
        "    return np.mean(nn_values)\n"
      ],
      "execution_count": 7,
      "outputs": []
    },
    {
      "cell_type": "markdown",
      "metadata": {
        "id": "5H0FI5vANl6n"
      },
      "source": [
        "#### (d) Run 3NN regression for the first 5 points of the test set and report the estimate response values."
      ]
    },
    {
      "cell_type": "code",
      "metadata": {
        "id": "1IkGv5uJNhvI",
        "colab": {
          "base_uri": "https://localhost:8080/"
        },
        "outputId": "fe7e70ec-9464-47a9-bcbf-0189d99ec549"
      },
      "source": [
        "\n",
        "# Replace \"...\" with your code\n",
        "\n",
        "y_pred_3NN = np.empty(5,).T\n",
        "\n",
        "for idx in range(5):\n",
        "    y_pred_3NN[idx] = kNN(X_test[idx],X_train,y_train,3)\n",
        "\n",
        "print(\"array of values\")\n",
        "print(y_pred_3NN)\n",
        "print(\"first 5 full values\")\n",
        "for i in range(5):\n",
        "  print(y_pred_3NN[i])\n",
        "\n"
      ],
      "execution_count": 8,
      "outputs": [
        {
          "output_type": "stream",
          "name": "stdout",
          "text": [
            "array of values\n",
            "[247.33333333 181.66666667 158.33333333 116.66666667 185.66666667]\n",
            "first 5 full values\n",
            "247.33333333333334\n",
            "181.66666666666666\n",
            "158.33333333333334\n",
            "116.66666666666667\n",
            "185.66666666666666\n"
          ]
        }
      ]
    },
    {
      "cell_type": "markdown",
      "metadata": {
        "id": "q15hPhWla87G"
      },
      "source": [
        "#### (e) Use sklearn's KNeighborsRegressor class to verify your result from (b)."
      ]
    },
    {
      "cell_type": "code",
      "metadata": {
        "colab": {
          "base_uri": "https://localhost:8080/"
        },
        "id": "EQW0KhLZbGhw",
        "outputId": "7d61d3be-36e5-4b90-e99b-ddaa979b11c7"
      },
      "source": [
        "# Replace \"...\" with your code\n",
        "\n",
        "from sklearn.neighbors import KNeighborsRegressor\n",
        "\n",
        "regressor = KNeighborsRegressor(n_neighbors=3)\n",
        "regressor.fit(X_train, y_train)\n",
        "y_pred = regressor.predict(X_test)\n",
        "\n",
        "ypredtest = np.empty(5,)\n",
        "for i in range(5):\n",
        "  ypredtest[i]=y_pred[i]\n",
        "\n",
        "\n",
        "print(ypredtest)\n",
        "print(y_pred_3NN)\n",
        "print(ypredtest == y_pred_3NN)"
      ],
      "execution_count": 9,
      "outputs": [
        {
          "output_type": "stream",
          "name": "stdout",
          "text": [
            "[247.33333333 181.66666667 158.33333333 116.66666667 185.66666667]\n",
            "[247.33333333 181.66666667 158.33333333 116.66666667 185.66666667]\n",
            "[ True  True  True  True  True]\n"
          ]
        }
      ]
    },
    {
      "cell_type": "markdown",
      "metadata": {
        "id": "UvZ_ZNZnhrYi"
      },
      "source": [
        "### MSE - A regression performance metric\n",
        "\n",
        "A metric for the performance of a regression algorithm is the Mean Squared Error (MSE) which is defined as:\n",
        "\n",
        "$$MSE = \\sum_n (y_{pred} - y_{true})^2$$"
      ]
    },
    {
      "cell_type": "markdown",
      "metadata": {
        "id": "fUwRUoWHN6YL"
      },
      "source": [
        "#### (f) Write a function that calculates the MSE. The run 3NN regression on the test set (all of it, not just the first 5 points) and print the MSE."
      ]
    },
    {
      "cell_type": "code",
      "metadata": {
        "id": "0_z4eC3hOG6U",
        "colab": {
          "base_uri": "https://localhost:8080/"
        },
        "outputId": "4560c6bd-3f08-422f-bb01-decc614f6f37"
      },
      "source": [
        "# Replace \"...\" with your code\n",
        "\n",
        "def MSE(a, b):\n",
        "\n",
        "    return np.sum(np.subtract(a,b)**2)/len(b)\n",
        "\n",
        "y_pred_3NN = regressor.predict(X_test)\n",
        "\n",
        "print(y_pred_3NN.shape)\n",
        "print(y_test.shape)\n",
        "\n",
        "MSE_3NN = MSE(y_pred_3NN,y_test)\n",
        "print(MSE_3NN)"
      ],
      "execution_count": 10,
      "outputs": [
        {
          "output_type": "stream",
          "name": "stdout",
          "text": [
            "(89,)\n",
            "(89,)\n",
            "4415.551810237203\n"
          ]
        }
      ]
    },
    {
      "cell_type": "markdown",
      "metadata": {
        "id": "Id-r8WULO2MS"
      },
      "source": [
        "#### (g) Plot the MSE for the kNN algorithm on the test for different values of k up to 11. What do you observe? How do you explain this?"
      ]
    },
    {
      "cell_type": "code",
      "metadata": {
        "id": "hhUte_q9l4UK",
        "colab": {
          "base_uri": "https://localhost:8080/",
          "height": 279
        },
        "outputId": "5912170e-d3a6-460e-ecbd-8ec3ea50a30a"
      },
      "source": [
        "# Replace \"...\" with your code\n",
        "\n",
        "from matplotlib import pyplot as plt\n",
        "\n",
        "mse = []\n",
        "for k in range(1, 12):\n",
        "    regressor = KNeighborsRegressor(n_neighbors=k)\n",
        "    regressor.fit(X_train,y_train)\n",
        "    y_pred = regressor.predict(X_test)\n",
        "    mse.append(MSE(y_pred,y_test))\n",
        "\n",
        "plt.plot(np.arange(1,12), mse)\n",
        "plt.xlabel('k')\n",
        "plt.ylabel('MSE')\n",
        "plt.grid()"
      ],
      "execution_count": 11,
      "outputs": [
        {
          "output_type": "display_data",
          "data": {
            "image/png": "[encoded data removed]",
            "text/plain": [
              "<Figure size 432x288 with 1 Axes>"
            ]
          },
          "metadata": {
            "needs_background": "light"
          }
        }
      ]
    },
    {
      "cell_type": "markdown",
      "metadata": {
        "id": "yldqXwuwljxi"
      },
      "source": [
        "(1g) I observe that the MSE is inversely proportional to K, because as the number of neighbors (k) increases, the MSE decreases significantly. This happens because with more neighbors, the algorithm has more reference points with which to make an accurate prediction. The reason the MSE changes is because there are more points being used to predict the response variable as k changes, so the predictions become more informed. If k was to become too large, the MSE may increase again depending on the data presented."
      ]
    },
    {
      "cell_type": "markdown",
      "metadata": {
        "id": "LEzl8zxLlDmo"
      },
      "source": [
        "## Problem 2 - Linear Independence"
      ]
    },
    {
      "cell_type": "markdown",
      "metadata": {
        "id": "f1z01i1un9Cm"
      },
      "source": [
        "\n",
        "\n",
        "#### (a)   Verify that $c_1 = [0, 0, 1]$, $c_2 = [0, 1, 0]$, $c_3 = [1, 1, 0]$ are linearly independent vectors. \n",
        "\n",
        "\n",
        "\n",
        "\n"
      ]
    },
    {
      "cell_type": "markdown",
      "metadata": {
        "id": "XKQDQdQHUr2x"
      },
      "source": [
        "#### (b)   Recall the definition of basis vectors. Verify that any 3-dimensional vector $b$ can be written as a linear combination of the basis vectors:\n",
        "\n",
        "$\\:\\:\\:\\:\\:\\:\\:\\:\\:\\:\\:\\:\\:\\:\\:\\:\\:\\:\\:\\:\\:\\:\\:\\:\\:\\:\\:\\:\\:\\:\\:\\:\\:\\:\\:\\:\\:\\:\\:a_1=\\begin{bmatrix}\n",
        "-1\\\\\n",
        "0\\\\\n",
        "3\n",
        "\\end{bmatrix}$, $a_2=\\begin{bmatrix}\n",
        "1\\\\\n",
        "2\\\\\n",
        "-3\n",
        "\\end{bmatrix}$, $a_3=\\begin{bmatrix}\n",
        "4\\\\\n",
        "-2\\\\\n",
        "3\n",
        "\\end{bmatrix}$\n",
        "\n",
        "**Note**: An explanation (~100 words) for each part should be enough."
      ]
    },
    {
      "cell_type": "markdown",
      "metadata": {
        "id": "fIvqrTft-eN_"
      },
      "source": [
        "#### Answer:\n",
        "\n",
        "(a) In order to prove linear independence, the vectors should only add up to 0 when their coefficients are 0 as well. By putting them in a matrix and solving for the homogeneous solution, we can see that the vectors are linearly independent as the coefficients: x, y, and z must be 0 to satisfy the matrix\n",
        ":\n",
        "\n",
        "$\\:\\:\\:\\:\\:\\:\\:\\:\\:\\:\\:\\:\\:\\:\\:\\:\\:\\:\\:\\:\\:\\:\\:\\:\\:\\:\\:\\:\\:\\:\\:\\:\\:\\:\\:\\:\\:\\:\\:\\begin{bmatrix}\n",
        "0 & 0 & 1 & 0\\\\\n",
        "0 & 1 & 1 & 0\\\\\n",
        "1 & 0 & 0 & 0\n",
        "\\end{bmatrix}\n",
        "=\\begin{bmatrix}\n",
        "1 & 0 & 0 & 0\\\\\n",
        "0 & 1 & 1 & 0\\\\\n",
        "0 & 0 & 1 & 0\n",
        "\\end{bmatrix}\n",
        "=\\begin{bmatrix}\n",
        "[1] & 0 & 0 & 0\\\\\n",
        "0 & [1] & 0 & 0\\\\\n",
        "0 & 0 & [1] & 0\n",
        "\\end{bmatrix}$\n",
        "\n",
        "There is a unique pivot in every row, which means the only linear combination that works is $0c_1+0c_2+0c_3=0$, so the vectors are linearly independent\n",
        "\n",
        "\n",
        "(b) Vector b can be represented as a linear combination of $a_1,a_2,$ and $a_3$ if the vectors are all linearly independent and span R3. The equation: $x*a_1+y*a_2+z*a_3$ must produce any vector in R3. This is represented by the matrix:\n",
        "$\\begin{bmatrix}\n",
        "-1 & 1 & 4 \\\\\n",
        "0 & 2 & -2 \\\\\n",
        "3 & -3 & 3 \n",
        "\\end{bmatrix}$ which $=\\begin{bmatrix}\n",
        "1 & 0 & 0 \\\\\n",
        "0 & 1 & 0 \\\\\n",
        "0 & 0 & 1 \n",
        "\\end{bmatrix}$ by row reduction\n",
        "\n",
        "and this parametric form holds with arbitrary coefficients x,y,z:\n",
        "\n",
        "$x\\begin{bmatrix}\n",
        "1\\\\\n",
        "0\\\\\n",
        "0\n",
        "\\end{bmatrix}+y\\begin{bmatrix}\n",
        "0\\\\\n",
        "1\\\\\n",
        "0\n",
        "\\end{bmatrix}+z\\begin{bmatrix}\n",
        "0\\\\\n",
        "0\\\\\n",
        "1\n",
        "\\end{bmatrix}=\\begin{bmatrix}\n",
        "b_1\\\\\n",
        "b_2\\\\\n",
        "b_3\n",
        "\\end{bmatrix}$\n",
        "\n",
        "$b_1,b_2,b_3$ are thus represented by a linear combination of the unit vectors for R3 and that means any vector \"b\" is included in the span of the reduced basis vectors, $a_1,a_2$, and $a_3$ and it can be any vector in R3"
      ]
    },
    {
      "cell_type": "code",
      "metadata": {
        "id": "tjvKqBDevusc"
      },
      "source": [
        ""
      ],
      "execution_count": 11,
      "outputs": []
    }
  ]
}